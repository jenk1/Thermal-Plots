{
 "cells": [
  {
   "cell_type": "markdown",
   "metadata": {},
   "source": [
    "# Problem Statement\n",
    "\n",
    "What fraction of nitrogen molecules are moving less than 300 m/s in the air at room temperature?\n",
    "\n",
    "### Maxwell distribution \n",
    "### $\\mathcal{D}(v) = (\\frac{m}{2\\pi kT})^{3/2} 4\\pi v^2e^{\\frac{-mv^2}{2kT}}$"
   ]
  },
  {
   "cell_type": "code",
   "execution_count": 1,
   "metadata": {},
   "outputs": [],
   "source": [
    "import scipy.integrate as integrate\n",
    "import scipy.constants as constant\n",
    "import numpy as np"
   ]
  },
  {
   "cell_type": "code",
   "execution_count": 2,
   "metadata": {},
   "outputs": [
    {
     "data": {
      "text/plain": [
       "1.38064852e-23"
      ]
     },
     "execution_count": 2,
     "metadata": {},
     "output_type": "execute_result"
    }
   ],
   "source": [
    "constant.Boltzmann"
   ]
  },
  {
   "cell_type": "code",
   "execution_count": 3,
   "metadata": {},
   "outputs": [
    {
     "data": {
      "text/plain": [
       "3.141592653589793"
      ]
     },
     "execution_count": 3,
     "metadata": {},
     "output_type": "execute_result"
    }
   ],
   "source": [
    "constant.pi"
   ]
  },
  {
   "cell_type": "code",
   "execution_count": 4,
   "metadata": {},
   "outputs": [
    {
     "data": {
      "text/plain": [
       "2.32e-26"
      ]
     },
     "execution_count": 4,
     "metadata": {},
     "output_type": "execute_result"
    }
   ],
   "source": [
    "mass_nitrogen = 2.32e-26\n",
    "mass_nitrogen"
   ]
  },
  {
   "cell_type": "code",
   "execution_count": 5,
   "metadata": {},
   "outputs": [],
   "source": [
    "def D(m: float, T: float, lower: float, upper: float) -> float:\n",
    "    \"\"\"\n",
    "    Maxwell distribution where:\n",
    "    m: mass of atom/molecule in question (in kg)\n",
    "    T: temperature (in kelvin)\n",
    "    lower: lower bound for velocity  \n",
    "    upper: upper bound for velocity\n",
    "    \"\"\"\n",
    "    # constant part \n",
    "    const = 4 * constant.pi * (m/(2 * constant.pi * constant.Boltzmann * T))**(3/2)\n",
    "    result = integrate.quad(lambda x: x**2 * np.exp(-(m*x**2)/(2 * constant.Boltzmann * T)), lower, upper)\n",
    "    return(np.around(const * result[0] * 100, 3))    "
   ]
  },
  {
   "cell_type": "code",
   "execution_count": 6,
   "metadata": {},
   "outputs": [
    {
     "data": {
      "text/plain": [
       "8.201"
      ]
     },
     "execution_count": 6,
     "metadata": {},
     "output_type": "execute_result"
    }
   ],
   "source": [
    "D(mass_nitrogen, 300, 0, 300)"
   ]
  }
 ],
 "metadata": {
  "kernelspec": {
   "display_name": "Python 3",
   "language": "python",
   "name": "python3"
  },
  "language_info": {
   "codemirror_mode": {
    "name": "ipython",
    "version": 3
   },
   "file_extension": ".py",
   "mimetype": "text/x-python",
   "name": "python",
   "nbconvert_exporter": "python",
   "pygments_lexer": "ipython3",
   "version": "3.7.3"
  }
 },
 "nbformat": 4,
 "nbformat_minor": 2
}
