{
 "cells": [
  {
   "cell_type": "markdown",
   "metadata": {},
   "source": [
    "# Problem statment\n",
    "\n",
    "Want to calculate entropy, temperature and heat capacity of an Einstein solid where the solid contains 50 oscillators and from 0 to 100 units of energy. Like in problem 3.18 I will be constructing a table as well as making some plots"
   ]
  },
  {
   "cell_type": "code",
   "execution_count": 3,
   "metadata": {},
   "outputs": [],
   "source": [
    "import matplotlib.pyplot as plt\n",
    "%matplotlib inline\n",
    "import numpy as np \n",
    "import pandas as pd\n",
    "import scipy \n",
    "from math import factorial\n",
    "import warnings\n",
    "warnings.filterwarnings('ignore')"
   ]
  },
  {
   "cell_type": "markdown",
   "metadata": {},
   "source": [
    "## Originally begin with 50 oscialators and then scale to 5000"
   ]
  },
  {
   "cell_type": "code",
   "execution_count": 1,
   "metadata": {},
   "outputs": [],
   "source": [
    "num_oscillators_org = 50\n",
    "num_oscillators_new = 5000"
   ]
  },
  {
   "cell_type": "code",
   "execution_count": 4,
   "metadata": {},
   "outputs": [
    {
     "data": {
      "text/plain": [
       "array([  0.,   1.,   2.,   3.,   4.,   5.,   6.,   7.,   8.,   9.,  10.,\n",
       "        11.,  12.,  13.,  14.,  15.,  16.,  17.,  18.,  19.,  20.,  21.,\n",
       "        22.,  23.,  24.,  25.,  26.,  27.,  28.,  29.,  30.,  31.,  32.,\n",
       "        33.,  34.,  35.,  36.,  37.,  38.,  39.,  40.,  41.,  42.,  43.,\n",
       "        44.,  45.,  46.,  47.,  48.,  49.,  50.,  51.,  52.,  53.,  54.,\n",
       "        55.,  56.,  57.,  58.,  59.,  60.,  61.,  62.,  63.,  64.,  65.,\n",
       "        66.,  67.,  68.,  69.,  70.,  71.,  72.,  73.,  74.,  75.,  76.,\n",
       "        77.,  78.,  79.,  80.,  81.,  82.,  83.,  84.,  85.,  86.,  87.,\n",
       "        88.,  89.,  90.,  91.,  92.,  93.,  94.,  95.,  96.,  97.,  98.,\n",
       "        99., 100.])"
      ]
     },
     "execution_count": 4,
     "metadata": {},
     "output_type": "execute_result"
    }
   ],
   "source": [
    "# energy \n",
    "q = np.linspace(0,100,101)\n",
    "q"
   ]
  },
  {
   "cell_type": "markdown",
   "metadata": {},
   "source": [
    "## Multiplicity $\\Omega$"
   ]
  },
  {
   "cell_type": "code",
   "execution_count": 5,
   "metadata": {},
   "outputs": [],
   "source": [
    "def multiplicity_harm(energy, n):\n",
    "    \"\"\"\n",
    "    Find the multiplicty given a unit of energy \n",
    "    and the number of osciallators\n",
    "    \"\"\"\n",
    "    \n",
    "    numerator = factorial(energy + n - 1)\n",
    "    denominator = factorial(energy) * factorial(n - 1)\n",
    "    \n",
    "    return(numerator/denominator)"
   ]
  },
  {
   "cell_type": "code",
   "execution_count": 6,
   "metadata": {},
   "outputs": [
    {
     "data": {
      "text/plain": [
       "array([1.00000000e+00, 5.00000000e+01, 1.27500000e+03, 2.21000000e+04,\n",
       "       2.92825000e+05, 3.16251000e+06, 2.89896750e+07, 2.31917400e+08,\n",
       "       1.65241148e+09, 1.06488740e+10, 6.28283563e+10, 3.42700125e+11,\n",
       "       1.74205897e+12, 8.30828124e+12, 3.73872656e+13, 1.59519000e+14,\n",
       "       6.48045937e+14, 2.51594305e+15, 9.36489913e+15, 3.35164811e+16,\n",
       "       1.15631860e+17, 3.85439533e+17, 1.24391849e+18, 3.89400571e+18,\n",
       "       1.18442674e+19, 3.50590314e+19, 1.01131821e+20, 2.84667349e+20,\n",
       "       7.82835210e+20, 2.10555677e+21, 5.54463283e+21, 1.43087299e+22,\n",
       "       3.62189725e+22, 8.99986591e+22, 2.19702609e+23, 5.27286261e+23,\n",
       "       1.24498145e+24, 2.89374067e+24, 6.62514311e+24, 1.49490409e+25,\n",
       "       3.32616159e+25, 7.30133032e+25, 1.58195490e+26, 3.38464770e+26,\n",
       "       7.15391446e+26, 1.49437324e+27, 3.08620561e+27, 6.30373912e+27,\n",
       "       1.27388061e+28, 2.54776123e+28, 5.04456723e+28, 9.89130829e+28,\n",
       "       1.92119642e+29, 3.69739688e+29, 7.05244220e+29, 1.33355271e+30,\n",
       "       2.50041132e+30, 4.64988773e+30, 8.57824115e+30, 1.57025431e+31,\n",
       "       2.85262867e+31, 5.14408448e+31, 9.20957060e+31, 1.63725700e+32,\n",
       "       2.89078188e+32, 5.06998669e+32, 8.83406771e+32, 1.52948038e+33,\n",
       "       2.63160595e+33, 4.50042756e+33, 7.65072686e+33, 1.29308060e+34,\n",
       "       2.17309378e+34, 3.63174577e+34, 6.03655040e+34, 9.98042999e+34,\n",
       "       1.64151809e+35, 2.68612051e+35, 4.37355519e+35, 7.08626664e+35,\n",
       "       1.14266050e+36, 1.83389956e+36, 2.92976637e+36, 4.65938748e+36,\n",
       "       7.37736352e+36, 1.16301966e+37, 1.82567040e+37, 2.85392154e+37,\n",
       "       4.44303694e+37, 6.88920335e+37, 1.06399918e+38, 1.63692182e+38,\n",
       "       2.50876062e+38, 3.83058073e+38, 5.82737281e+38, 8.83307036e+38,\n",
       "       1.33416167e+39, 2.00811963e+39, 3.01217944e+39, 4.50305613e+39,\n",
       "       6.70955364e+39])"
      ]
     },
     "execution_count": 6,
     "metadata": {},
     "output_type": "execute_result"
    }
   ],
   "source": [
    "mult_org = [multiplicity_harm(i, num_oscillators_org) for i in q]\n",
    "mult_org = np.asarray(mult_org)\n",
    "mult_org"
   ]
  },
  {
   "cell_type": "code",
   "execution_count": 7,
   "metadata": {},
   "outputs": [
    {
     "data": {
      "text/plain": [
       "array([1.00000000e+000, 5.00000000e+003, 1.25025000e+007, 2.08458350e+010,\n",
       "       2.60729281e+013, 2.60937865e+016, 2.17665669e+019, 1.55662048e+022,\n",
       "       9.74249845e+024, 5.42115914e+027, 2.71545861e+030, 1.23676797e+033,\n",
       "       5.16453690e+035, 1.99112761e+038, 7.12965909e+040, 2.38320738e+043,\n",
       "       7.46986562e+045, 2.20404976e+048, 6.14317648e+050, 1.62244524e+053,\n",
       "       4.07152633e+055, 9.73288675e+057, 2.22131020e+060, 4.85018253e+062,\n",
       "       1.01510279e+065, 2.03995056e+067, 3.94259675e+069, 7.33907084e+071,\n",
       "       1.31762533e+074, 2.28448970e+076, 3.82956624e+078, 6.21378006e+080,\n",
       "       9.76922733e+082, 1.48965915e+085, 2.20513368e+087, 3.17161227e+089,\n",
       "       4.43585215e+091, 6.03755445e+093, 8.00293730e+095, 1.03381534e+098,\n",
       "       1.30234887e+100, 1.60093617e+102, 1.92150458e+104, 2.25307584e+106,\n",
       "       2.58233215e+108, 2.89450741e+110, 3.17451954e+112, 3.40821821e+114,\n",
       "       3.58359944e+116, 3.69183877e+118, 3.72801879e+120, 3.69146959e+122,\n",
       "       3.58569479e+124, 3.41791133e+126, 3.19827888e+128, 2.93892754e+130,\n",
       "       2.65290691e+132, 2.35317497e+134, 2.05172515e+136, 1.75891963e+138,\n",
       "       1.48306240e+140, 1.23021241e+142, 1.00421049e+144, 8.06875158e+145,\n",
       "       6.38313894e+147, 4.97295625e+149, 3.81636718e+151, 2.88562928e+153,\n",
       "       2.15021817e+155, 1.57931966e+157, 1.14365305e+159, 8.16664926e+160,\n",
       "       5.75181645e+162, 3.99633055e+164, 2.73964661e+166, 1.85346225e+168,\n",
       "       1.23767381e+170, 8.15900290e+171, 5.31067407e+173, 3.41362062e+175,\n",
       "       2.16722239e+177, 1.35919627e+179, 8.42204418e+180, 5.15672633e+182,\n",
       "       3.12043333e+184, 1.86638624e+186, 1.10355512e+188, 6.45135786e+189,\n",
       "       3.72932471e+191, 2.13200046e+193, 1.20552782e+195, 6.74300724e+196,\n",
       "       3.73137498e+198, 2.04302811e+200, 1.10693002e+202, 5.93547527e+203,\n",
       "       3.15012984e+205, 1.65495481e+207, 8.60745375e+208, 4.43240396e+210,\n",
       "       2.26008278e+212])"
      ]
     },
     "execution_count": 7,
     "metadata": {},
     "output_type": "execute_result"
    }
   ],
   "source": [
    "# for 5000 oscillators\n",
    "mult_new = [multiplicity_harm(i, num_oscillators_new) for i in q]\n",
    "mult_new = np.asarray(mult_new)\n",
    "mult_new"
   ]
  },
  {
   "cell_type": "markdown",
   "metadata": {},
   "source": [
    "## Entropy $S$"
   ]
  },
  {
   "cell_type": "code",
   "execution_count": 10,
   "metadata": {},
   "outputs": [],
   "source": [
    "entropy_org = np.log(mult_org)\n",
    "entropy_new = np.log(mult_new)"
   ]
  },
  {
   "cell_type": "markdown",
   "metadata": {},
   "source": [
    "## $\\frac{kT}{\\epsilon}$"
   ]
  },
  {
   "cell_type": "code",
   "execution_count": 19,
   "metadata": {},
   "outputs": [],
   "source": [
    "# 50 osciallators \n",
    "kT_eps_org = [(q[i + 1]-q[i - 1])/(entropy_org[i+1]-entropy_org[i-1]) for i in range(1,100)]\n",
    "\n",
    "# Include the 0 endpoints\n",
    "kT_eps_org.insert(0,0)\n",
    "kT_eps_org.append(0)\n",
    "kT_eps_org = np.asarray(kT_eps_org)\n",
    "\n",
    "# 5000 oscillators \n",
    "kT_eps_new = [(q[i + 1]-q[i - 1])/(entropy_new[i+1]-entropy_new[i-1]) for i in range(1,100)]\n",
    "\n",
    "# Include the 0 endpoints\n",
    "kT_eps_new.insert(0,0)\n",
    "kT_eps_new.append(0)\n",
    "kT_eps_new = np.asarray(kT_eps_new)"
   ]
  },
  {
   "cell_type": "markdown",
   "metadata": {},
   "source": [
    "## Heat Capacity"
   ]
  },
  {
   "cell_type": "code",
   "execution_count": 21,
   "metadata": {},
   "outputs": [],
   "source": [
    "# 50 oscillators \n",
    "heat_cap_org = [2/(kT_eps_org[i+1]-kT_eps_org[i-1])/num_oscillators_org for i in range(1,100)]\n",
    "heat_cap_org.insert(0,None)\n",
    "heat_cap_org.append(None)\n",
    "heat_cap_org = np.asarray(heat_cap_org)\n",
    "\n",
    "# 5000 oscillators\n",
    "heat_cap_new = [2/(kT_eps_new[i+1]-kT_eps_new[i-1])/num_oscillators_new for i in range(1,100)]\n",
    "heat_cap_new.insert(0,None)\n",
    "heat_cap_new.append(None)\n",
    "heat_cap_new = np.asarray(heat_cap_new)"
   ]
  },
  {
   "cell_type": "markdown",
   "metadata": {},
   "source": [
    "## Create Table"
   ]
  },
  {
   "cell_type": "code",
   "execution_count": null,
   "metadata": {},
   "outputs": [],
   "source": []
  }
 ],
 "metadata": {
  "kernelspec": {
   "display_name": "Python 3",
   "language": "python",
   "name": "python3"
  },
  "language_info": {
   "codemirror_mode": {
    "name": "ipython",
    "version": 3
   },
   "file_extension": ".py",
   "mimetype": "text/x-python",
   "name": "python",
   "nbconvert_exporter": "python",
   "pygments_lexer": "ipython3",
   "version": "3.7.3"
  }
 },
 "nbformat": 4,
 "nbformat_minor": 2
}
